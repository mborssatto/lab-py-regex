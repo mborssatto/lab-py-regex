{
 "cells": [
  {
   "cell_type": "markdown",
   "metadata": {},
   "source": [
    "# LAB | Regular Expressions (Regex) in Python"
   ]
  },
  {
   "cell_type": "markdown",
   "metadata": {},
   "source": [
    "## Overview\n",
    "This exercise notebook will help you practice using regular expressions in Python. Regular expressions are powerful tools for matching patterns in strings, which can be useful for validation, searching, and data manipulation.\n",
    "\n",
    "## Instructions\n",
    "- Complete each exercise by writing the appropriate regex pattern and Python code in the provided space.\n",
    "- Test your code to ensure it works as expected.\n",
    "<!-- - Use the hints provided if you get stuck. -->"
   ]
  },
  {
   "cell_type": "markdown",
   "metadata": {},
   "source": [
    "### Exercise 1: Match Email Addresses\n",
    "Write a regex pattern to match valid email addresses. An email address should contain an '@' symbol and a domain."
   ]
  },
  {
   "cell_type": "code",
   "metadata": {
    "ExecuteTime": {
     "end_time": "2025-10-27T13:41:37.853764Z",
     "start_time": "2025-10-27T13:41:37.850674Z"
    }
   },
   "source": [
    "import re\n",
    "\n",
    "# Example input\n",
    "email = \"example@example.com\"\n",
    "\n",
    "# Your regex pattern here\n",
    "pattern = r'^[a-zA-Z0-9._%+-]+@[a-zA-Z0-9.-]+\\.[a-zA-Z]{2,}$'\n",
    "\n",
    "# Test the regex\n",
    "if re.match(pattern, email):\n",
    "    print(\"Valid email\")\n",
    "else:\n",
    "    print(\"Invalid email\")"
   ],
   "outputs": [
    {
     "name": "stdout",
     "output_type": "stream",
     "text": [
      "Valid email\n"
     ]
    }
   ],
   "execution_count": 11
  },
  {
   "cell_type": "markdown",
   "metadata": {},
   "source": [
    "### Exercise 2: Validate Phone Numbers\n",
    "Create a regex pattern to validate phone numbers in the format (123) 456-7890 or 123-456-7890."
   ]
  },
  {
   "cell_type": "code",
   "metadata": {
    "ExecuteTime": {
     "end_time": "2025-10-27T13:43:29.874548Z",
     "start_time": "2025-10-27T13:43:29.871560Z"
    }
   },
   "source": [
    "import re\n",
    "\n",
    "# Example input\n",
    "phone_number = \"(123) 456-7890\"\n",
    "\n",
    "# Your regex pattern here\n",
    "pattern = r\"^\\(?\\d{3}\\)?[- ]?\\d{3}-\\d{4}$\"\n",
    "\n",
    "# Test the regex\n",
    "if re.match(pattern, phone_number):\n",
    "    print(\"Valid phone number\")\n",
    "else:\n",
    "    print(\"Invalid phone number\")"
   ],
   "outputs": [
    {
     "name": "stdout",
     "output_type": "stream",
     "text": [
      "Valid phone number\n"
     ]
    }
   ],
   "execution_count": 14
  },
  {
   "cell_type": "markdown",
   "metadata": {},
   "source": [
    "### Exercise 3: Extract Dates\n",
    "Write a regex pattern to extract dates in the format YYYY-MM-DD from a string."
   ]
  },
  {
   "cell_type": "code",
   "metadata": {
    "ExecuteTime": {
     "end_time": "2025-10-27T13:47:17.357047Z",
     "start_time": "2025-10-27T13:47:17.353979Z"
    }
   },
   "source": [
    "import re\n",
    "\n",
    "# Example input\n",
    "text = \"The event is scheduled for 2024-12-25.\"\n",
    "\n",
    "# Your regex pattern here\n",
    "pattern = r\"\\d{4}-\\d{2}-\\d{2}\"\n",
    "\n",
    "# Find all matches\n",
    "dates = re.findall(pattern, text)\n",
    "print(dates)"
   ],
   "outputs": [
    {
     "name": "stdout",
     "output_type": "stream",
     "text": [
      "['2024-12-25']\n"
     ]
    }
   ],
   "execution_count": 15
  },
  {
   "cell_type": "markdown",
   "metadata": {},
   "source": [
    "### Exercise 4: Match URLs\n",
    "Create a regex pattern to match URLs that start with http:// or https://."
   ]
  },
  {
   "cell_type": "code",
   "metadata": {
    "ExecuteTime": {
     "end_time": "2025-10-27T13:48:58.073791Z",
     "start_time": "2025-10-27T13:48:58.071591Z"
    }
   },
   "source": [
    "import re\n",
    "\n",
    "# Example input\n",
    "url = \"https://www.example.com\"\n",
    "\n",
    "# Your regex pattern here\n",
    "pattern = r\"https?://[^\\s]+\"\n",
    "\n",
    "# Test the regex\n",
    "if re.match(pattern, url):\n",
    "    print(\"Valid URL\")\n",
    "else:\n",
    "    print(\"Invalid URL\")"
   ],
   "outputs": [
    {
     "name": "stdout",
     "output_type": "stream",
     "text": [
      "Valid URL\n"
     ]
    }
   ],
   "execution_count": 18
  },
  {
   "cell_type": "markdown",
   "metadata": {},
   "source": [
    "### Exercise 5: Find Words Starting with a Specific Letter\n",
    "Write a regex pattern to find all words starting with the letter 'a' in a given string."
   ]
  },
  {
   "cell_type": "code",
   "metadata": {
    "ExecuteTime": {
     "end_time": "2025-10-27T13:52:44.118486Z",
     "start_time": "2025-10-27T13:52:44.115456Z"
    }
   },
   "source": [
    "import re\n",
    "\n",
    "# Example input\n",
    "text = \"A quick brown fox jumps over a lazy apple.\"\n",
    "\n",
    "# Your regex pattern here\n",
    "pattern = r\"\\ba\\w*\"\n",
    "\n",
    "# Find all matches\n",
    "words = re.findall(pattern, text)\n",
    "print(words)"
   ],
   "outputs": [
    {
     "name": "stdout",
     "output_type": "stream",
     "text": [
      "['a', 'apple']\n"
     ]
    }
   ],
   "execution_count": 25
  },
  {
   "cell_type": "markdown",
   "metadata": {},
   "source": [
    "### Exercise 6: Match Hexadecimal Colors\n",
    "Create a regex pattern to match hexadecimal color codes (e.g., #FFFFFF)."
   ]
  },
  {
   "cell_type": "code",
   "metadata": {
    "ExecuteTime": {
     "end_time": "2025-10-27T13:54:01.447046Z",
     "start_time": "2025-10-27T13:54:01.444030Z"
    }
   },
   "source": [
    "import re\n",
    "\n",
    "# Example input\n",
    "color_code = \"#FFFFFF\"\n",
    "\n",
    "# Your regex pattern here\n",
    "pattern = r\"^#+[A-Fa-f]{6}$\"\n",
    "\n",
    "# Test the regex\n",
    "if re.match(pattern, color_code):\n",
    "    print(\"Valid hex color code\")\n",
    "else:\n",
    "    print(\"Invalid hex color code\")"
   ],
   "outputs": [
    {
     "name": "stdout",
     "output_type": "stream",
     "text": [
      "Valid hex color code\n"
     ]
    }
   ],
   "execution_count": 31
  },
  {
   "cell_type": "markdown",
   "metadata": {},
   "source": [
    "### Exercise 7: Validate Passwords \n",
    "Write a regex pattern to validate passwords that must be at least 8 characters long and contain at least one uppercase letter, one lowercase letter, one digit, and one special character."
   ]
  },
  {
   "cell_type": "code",
   "metadata": {
    "ExecuteTime": {
     "end_time": "2025-10-27T13:54:33.913979Z",
     "start_time": "2025-10-27T13:54:33.910704Z"
    }
   },
   "source": [
    "import re\n",
    "\n",
    "# Example input\n",
    "password = \"Password123!\"\n",
    "\n",
    "# Your regex pattern here\n",
    "pattern = r\"^(?=.*[a-z])(?=.*[A-Z])(?=.*\\d)(?=.*[^A-Za-z0-9]).{8,}$\"\n",
    "\n",
    "# Test the regex\n",
    "if re.match(pattern, password):\n",
    "    print(\"Valid password\")\n",
    "else:\n",
    "    print(\"Invalid password\")"
   ],
   "outputs": [
    {
     "name": "stdout",
     "output_type": "stream",
     "text": [
      "Valid password\n"
     ]
    }
   ],
   "execution_count": 32
  },
  {
   "cell_type": "markdown",
   "metadata": {},
   "source": [
    "### Exercise 8: Remove Extra Spaces \n",
    "Create a regex pattern that removes extra spaces from a string while keeping single spaces between words."
   ]
  },
  {
   "cell_type": "code",
   "metadata": {
    "ExecuteTime": {
     "end_time": "2025-10-27T13:57:05.483705Z",
     "start_time": "2025-10-27T13:57:05.480085Z"
    }
   },
   "source": [
    "import re\n",
    "\n",
    "# Example input\n",
    "text = \"This   is   an   example.\"\n",
    "\n",
    "# Your regex pattern here\n",
    "pattern = r\"\\s{2,}\"\n",
    "\n",
    "# Replace extra spaces\n",
    "cleaned_text = re.sub(pattern, \" \", text)\n",
    "print(cleaned_text)"
   ],
   "outputs": [
    {
     "name": "stdout",
     "output_type": "stream",
     "text": [
      "This is an example.\n"
     ]
    }
   ],
   "execution_count": 34
  },
  {
   "cell_type": "markdown",
   "metadata": {},
   "source": [
    "### Exercise 9: Match IP Addresses \n",
    "Write a regex pattern to match valid IPv4 addresses."
   ]
  },
  {
   "cell_type": "code",
   "metadata": {
    "ExecuteTime": {
     "end_time": "2025-10-27T13:58:23.604933Z",
     "start_time": "2025-10-27T13:58:23.601558Z"
    }
   },
   "source": [
    "import re\n",
    "\n",
    "# Example input\n",
    "ip_address = \"192.168.1.1\"\n",
    "\n",
    "# Your regex pattern here\n",
    "pattern = r\"(?:(?:25[0-5]|2[0-4]\\d|1\\d\\d|[1-9]?\\d)\\.){3}(?:25[0-5]|2[0-4]\\d|1\\d\\d|[1-9]?\\d)\"\n",
    "\n",
    "\n",
    "# Test the regex\n",
    "if re.match(pattern, ip_address):\n",
    "    print(\"Valid IP address\")\n",
    "else:\n",
    "    print(\"Invalid IP address\")"
   ],
   "outputs": [
    {
     "name": "stdout",
     "output_type": "stream",
     "text": [
      "Valid IP address\n"
     ]
    }
   ],
   "execution_count": 37
  },
  {
   "cell_type": "markdown",
   "metadata": {},
   "source": [
    "### Exercise 10: Extract Hashtags \n",
    "Create a regex pattern to extract hashtags from a string."
   ]
  },
  {
   "cell_type": "code",
   "metadata": {
    "ExecuteTime": {
     "end_time": "2025-10-27T14:01:09.491570Z",
     "start_time": "2025-10-27T14:01:09.488660Z"
    }
   },
   "source": [
    "import re\n",
    "\n",
    "# Example input\n",
    "text = \"Here are some hashtags: #Python #Regex #Coding.\"\n",
    "\n",
    "# Your regex pattern here\n",
    "pattern = r\"#\\w+\"\n",
    "\n",
    "# Find all matches\n",
    "hashtags = re.findall(pattern, text)\n",
    "print(hashtags)"
   ],
   "outputs": [
    {
     "name": "stdout",
     "output_type": "stream",
     "text": [
      "['#Python', '#Regex', '#Coding']\n"
     ]
    }
   ],
   "execution_count": 41
  },
  {
   "cell_type": "markdown",
   "metadata": {},
   "source": [
    "## Bonus Exercises\n"
   ]
  },
  {
   "cell_type": "markdown",
   "metadata": {},
   "source": [
    "\n",
    "### Bonus Exercise 1: Match All Digits \n",
    "Write a regex pattern to match all digits in a given string."
   ]
  },
  {
   "cell_type": "code",
   "metadata": {
    "ExecuteTime": {
     "end_time": "2025-10-27T14:01:46.218239Z",
     "start_time": "2025-10-27T14:01:46.216066Z"
    }
   },
   "source": [
    "import re\n",
    "\n",
    "# Example input\n",
    "text = \"There are 2 apples and 3 oranges.\"\n",
    "\n",
    "# Your regex pattern here\n",
    "pattern = r\"\\d\"\n",
    "\n",
    "# Find all matches\n",
    "digits = re.findall(pattern, text)\n",
    "print(digits)"
   ],
   "outputs": [
    {
     "name": "stdout",
     "output_type": "stream",
     "text": [
      "['2', '3']\n"
     ]
    }
   ],
   "execution_count": 42
  },
  {
   "cell_type": "markdown",
   "metadata": {},
   "source": [
    "### Bonus Exercise 2: Validate Credit Card Numbers  \n",
    "Create a regex pattern to validate credit card numbers (16 digits)."
   ]
  },
  {
   "cell_type": "code",
   "metadata": {
    "ExecuteTime": {
     "end_time": "2025-10-27T14:02:28.630223Z",
     "start_time": "2025-10-27T14:02:28.627327Z"
    }
   },
   "source": [
    "import re\n",
    "\n",
    "# Example input\n",
    "credit_card_number = \"1234-5678-9876-5432\"\n",
    "\n",
    "# Your regex pattern here\n",
    "pattern = r\"\\d{4}-\\d{4}-\\d{4}-\\d{4}\"\n",
    "\n",
    "# Test the regex\n",
    "if re.match(pattern, credit_card_number):\n",
    "    print(\"Valid credit card number\")\n",
    "else:\n",
    "    print(\"Invalid credit card number\")"
   ],
   "outputs": [
    {
     "name": "stdout",
     "output_type": "stream",
     "text": [
      "Valid credit card number\n"
     ]
    }
   ],
   "execution_count": 46
  },
  {
   "cell_type": "markdown",
   "metadata": {},
   "source": [
    "### Bonus Exercise 3: Match Non-Alphanumeric Characters  \n",
    "Write a regex pattern to match non-alphanumeric characters in a string."
   ]
  },
  {
   "cell_type": "code",
   "metadata": {
    "ExecuteTime": {
     "end_time": "2025-10-27T14:03:09.505481Z",
     "start_time": "2025-10-27T14:03:09.503419Z"
    }
   },
   "source": [
    "import re\n",
    "\n",
    "# Example input\n",
    "text = \"Hello! How are you? @Python3.\"\n",
    "\n",
    "# Your regex pattern here\n",
    "pattern = r\"\\W\"\n",
    "\n",
    "# Find all matches\n",
    "non_alphanumeric_chars = re.findall(pattern, text)\n",
    "print(non_alphanumeric_chars)"
   ],
   "outputs": [
    {
     "name": "stdout",
     "output_type": "stream",
     "text": [
      "['!', ' ', ' ', ' ', '?', ' ', '@', '.']\n"
     ]
    }
   ],
   "execution_count": 47
  },
  {
   "cell_type": "markdown",
   "metadata": {},
   "source": [
    "### Bonus Exercise 4: Validate Date Format  \n",
    "Create a regex pattern to validate dates in the format DD/MM/YYYY."
   ]
  },
  {
   "cell_type": "code",
   "metadata": {
    "ExecuteTime": {
     "end_time": "2025-10-27T14:05:25.336205Z",
     "start_time": "2025-10-27T14:05:25.333200Z"
    }
   },
   "source": [
    "import re\n",
    "\n",
    "# Example input\n",
    "date_string = \"25/12/2024\"\n",
    "\n",
    "# Your regex pattern here\n",
    "pattern = r\"^(0[1-9]|[12][0-9]|3[01])/(0[1-9]|1[0-2])/\\d{4}$\"\n",
    "\n",
    "# Test the regex\n",
    "if re.match(pattern, date_string):\n",
    "    print(\"Valid date format\")\n",
    "else:\n",
    "    print(\"Invalid date format\")"
   ],
   "outputs": [
    {
     "name": "stdout",
     "output_type": "stream",
     "text": [
      "Valid date format\n"
     ]
    }
   ],
   "execution_count": 51
  },
  {
   "cell_type": "markdown",
   "metadata": {},
   "source": [
    "### Bonus Exercise 5: Extract Email Domains  \n",
    "Write a regex pattern to extract domains from email addresses."
   ]
  },
  {
   "cell_type": "code",
   "metadata": {
    "ExecuteTime": {
     "end_time": "2025-10-27T14:09:07.700120Z",
     "start_time": "2025-10-27T14:09:07.697056Z"
    }
   },
   "source": [
    "import re\n",
    "\n",
    "# Example input\n",
    "email_list = [\"user@example.com\", \"admin@domain.org\"]\n",
    "\n",
    "# Your regex pattern here\n",
    "pattern = r\"([a-zA-Z0-9.-]+\\.[a-zA-Z]{2,})\"\n",
    "\n",
    "for email in email_list:\n",
    "    domain = re.search(pattern, email)\n",
    "    if domain:\n",
    "        print(domain)  # Print extracted domain part."
   ],
   "outputs": [
    {
     "name": "stdout",
     "output_type": "stream",
     "text": [
      "<re.Match object; span=(5, 16), match='example.com'>\n",
      "<re.Match object; span=(6, 16), match='domain.org'>\n"
     ]
    }
   ],
   "execution_count": 60
  },
  {
   "cell_type": "markdown",
   "metadata": {},
   "source": [
    "### Exercise Completion  \n",
    "Once you have completed all exercises:\n",
    "- Review your solutions.\n",
    "- Ensure your regular expressions and Python code are well-documented with comments explaining your logic.\n",
    "- Save your notebook for submission or further review.\n",
    "\n",
    "Happy coding! Enjoy practicing Regular Expressions in Python!"
   ]
  }
 ],
 "metadata": {
  "kernelspec": {
   "display_name": ".venv",
   "language": "python",
   "name": "python3"
  },
  "language_info": {
   "codemirror_mode": {
    "name": "ipython",
    "version": 3
   },
   "file_extension": ".py",
   "mimetype": "text/x-python",
   "name": "python",
   "nbconvert_exporter": "python",
   "pygments_lexer": "ipython3",
   "version": "3.8.0"
  }
 },
 "nbformat": 4,
 "nbformat_minor": 2
}
